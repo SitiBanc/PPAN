{
 "cells": [
  {
   "cell_type": "markdown",
   "metadata": {},
   "source": [
    " # 3.3 MNIST Handwritten Digits"
   ]
  },
  {
   "cell_type": "code",
   "execution_count": 3,
   "metadata": {
    "ExecuteTime": {
     "end_time": "2018-06-26T10:00:20.363844Z",
     "start_time": "2018-06-26T10:00:20.353678Z"
    }
   },
   "outputs": [],
   "source": [
    "import numpy as np\n",
    "from matplotlib import pyplot as plt\n",
    "from keras.datasets import mnist\n",
    "from keras.layers import *\n",
    "from keras.models import Sequential, Model\n",
    "from keras.optimizers import Adam"
   ]
  },
  {
   "cell_type": "markdown",
   "metadata": {},
   "source": [
    "## Define Class"
   ]
  },
  {
   "cell_type": "code",
   "execution_count": null,
   "metadata": {},
   "outputs": [],
   "source": [
    "class PPAN:\n",
    "    def __init__(self, img_size=(28, 28), channels=1, noise_dim=20, learning_rates=[1e-4, 1e-4, 1e-3], utility_weight=2, valid_weight=1):\n",
    "        '''\n",
    "        Build PPAN model\n",
    "        Args:\n",
    "            img_size: tuple, input image size, default=(28, 28)\n",
    "            channels: int, input image channels, default=1\n",
    "            noise_dim: int, noise input of mechanism network, default=20\n",
    "            learning_rates: list, list of learning rates of adversary, discriminator and mechanism, default=[1e-4, 1e-4, 1e-3]\n",
    "            utility_weight: float, weight of the utility loss, default=2\n",
    "            valid_weight: float, weight of the discriminator loss, default=1\n",
    "        Returns:\n",
    "            PPAN object\n",
    "        '''\n",
    "        # Get variables\n",
    "        self.img_size = img_size\n",
    "        self.channels = channels\n",
    "        self.noise_dim = noise_dim\n",
    "        # Get networks\n",
    "        self.mechanism = build_mechanism()\n",
    "        self.adversary = build_adversary()\n",
    "        self.discriminator = build_discriminator()\n",
    "        # Setup optimizers\n",
    "        a_optimizer = Adam(learning_rate_a, 0.5, clipvalue=0.1)\n",
    "        d_optimizer = Adam(learning_rate_d, 0.5, clipvalue=0.1)\n",
    "        m_optimizer = Adam(learning_rate_m, 0.5)\n",
    "        # Compile discriminators\n",
    "        self.adversary.compile(loss=\"categorical_crossentropy\", optimizer=a_optimizer, metrics=[\"accuracy\"])\n",
    "        self.discriminator.compile(loss=\"binary_crossentropy\", loss_weights=self.gama, optimizer=d_optimizer, metrics=[\"accuracy\"])\n",
    "        # Combined two discriminators with the mechanism(generator)\n",
    "        original_img = Input(shape=self.img_size[0]*self.img_size[1])\n",
    "        gen_img = self.mechanism(original_img)\n",
    "        # Freeze discriminators\n",
    "        self.adversary.trainable = False\n",
    "        self.discriminator.trainable = False\n",
    "        # Get predictions from discriminators\n",
    "        pred_label = self.adversary(gen_img)\n",
    "        pred_valid = self.discriminator(gen_img)\n",
    "        self.ppan = Model(inputs=[gen_img, gen_img], outputs=[pred_label, pred_valid])\n",
    "        # Compile mechanism\n",
    "        self.ppan.compile(loss=\"kullback_leibler_divergence\", loss_weights=self.lambda, optimizer=m_optimizer)\n",
    "        print(\"=== Model Summary ===\")\n",
    "        self.ppan.summary()\n",
    "        \n",
    "    def build_mechanism(self):\n",
    "        model = Sequential(name=\"Mechanism\")\n",
    "        \n",
    "        model.add(Dense(1000, activation=\"tanh\", input_shape=self.img_size[0]*self.img_size[1]+self.noise_dim))\n",
    "        model.add(Dense(1000, activation=\"tanh\"))\n",
    "        model.add(Dense(self.img_size[0]*self.img_size[1], activation=\"sigmoid\"))\n",
    "        \n",
    "        noised_img = Input(shape=self.img_size[0]*self.img_size[1]+self.noise_dim)\n",
    "        gen_img = model(x)\n",
    "        \n",
    "        return Model(noised_img, gen_img)\n",
    "    \n",
    "    def build_adversary(self):\n",
    "        model = Sequential(name=\"Adversary\")\n",
    "        \n",
    "        model.add(Dense(1000, activation=\"tanh\", input_shape=self.img_size[0]*self.img_size[1]))\n",
    "        model.add(Dense(1000, activation=\"tanh\"))\n",
    "        model.add(Dense(10, activation=\"softmax\"))\n",
    "        \n",
    "        img = Input(shape=self.img_size[0]*self.img_size[1])\n",
    "        label = model(img)\n",
    "        \n",
    "        return Model(img, label)\n",
    "    \n",
    "    def build_discriminator(self):\n",
    "        model = Sequential(name=\"Discriminator\")\n",
    "        \n",
    "        model.add(Dense(500, activation=\"tanh\", input_shape=self.img_size[0]*self.img_size[1]))\n",
    "        model.add(Dense(1, activation=\"sigmoid\"))\n",
    "        \n",
    "        img = Input(shape=self.img_size[0]*self.img_size[1])\n",
    "        pred = model(img)\n",
    "        \n",
    "        return Model(img, pred)\n",
    "    \n",
    "    def train(self, x_train, y_train, x_test, y_test, epochs, batch_size, save_path, print_interval=10, save_interval=50):\n",
    "        '''\n",
    "        Train model\n",
    "        Args:\n",
    "            x_train: ndarray, training images\n",
    "            y_train: ndarray, training labels\n",
    "            x_test: ndarray, testing images\n",
    "            y_test: ndarray, testing labels\n",
    "            epochs: int, training epochs\n",
    "            batch_size: int, training batch size\n",
    "            save_path: string, saving path for generated images during training process\n",
    "            print_interval: int, print accuracy & loss every print_interval epochs, default=10\n",
    "            save_interval: int, save generated images every save_interval, default=50\n",
    "        Returns:\n",
    "            None\n",
    "        '''\n",
    "        # Flatten images data\n",
    "        x_train = x_train.reshape((x_train.shape[0], self.img_size[0]*self.img_size[1]))\n",
    "        x_train = x_test.reshape((x_test.shape[0], self.img_size[0]*self.img_size[1]))\n",
    "        # Set labels for discriminator\n",
    "        valid = np.ones(shape=(batch_size, 1))\n",
    "        fake = np.zeros(shape=(batch_size, 1))\n",
    "        # Store training loss and accuracy in an array\n",
    "        self.losses = np.zeros(shape=(epochs, 3))    # privacy/realistic/utility loss (a/d/m networks)\n",
    "        self.accuracies = np.zeros(shape=(epochs, 2))    # adversary/discriminator accuracy\n",
    "        # Training\n",
    "        for e in range(epochs):\n",
    "            # Random sample batch_size images from data\n",
    "            idx = np.random.randint(low=0, high=x_train.shape[0], size=batch_size)\n",
    "            imgs = x_train[idx]\n",
    "            # Sample noise and generate a batch of new images\n",
    "            noise = np.random.uniform(low=-1, high=1, size=(self.batch_size, self.noise_dim))\n",
    "            gen_imgs = self.mechanism.predict(np.hstack(imgs, noise))\n",
    "            # Train adversary\n",
    "            \n",
    "            # Train discriminator\n",
    "            # Train mechanism"
   ]
  },
  {
   "cell_type": "markdown",
   "metadata": {},
   "source": [
    "## Load Data"
   ]
  },
  {
   "cell_type": "code",
   "execution_count": 2,
   "metadata": {
    "ExecuteTime": {
     "end_time": "2018-06-26T06:57:18.748281Z",
     "start_time": "2018-06-26T06:57:02.031592Z"
    },
    "scrolled": true
   },
   "outputs": [
    {
     "name": "stderr",
     "output_type": "stream",
     "text": [
      "/home/sitibanc/anaconda3/lib/python3.6/site-packages/h5py/__init__.py:36: FutureWarning: Conversion of the second argument of issubdtype from `float` to `np.floating` is deprecated. In future, it will be treated as `np.float64 == np.dtype(float).type`.\n",
      "  from ._conv import register_converters as _register_converters\n",
      "Using TensorFlow backend.\n"
     ]
    },
    {
     "name": "stdout",
     "output_type": "stream",
     "text": [
      "Downloading data from https://s3.amazonaws.com/img-datasets/mnist.npz\n",
      "11493376/11490434 [==============================] - 5s 0us/step\n"
     ]
    }
   ],
   "source": [
    "(x_train, y_train), (x_test, y_test) = mnist.load_data()"
   ]
  },
  {
   "cell_type": "markdown",
   "metadata": {},
   "source": [
    "## Data Preprocessing"
   ]
  },
  {
   "cell_type": "code",
   "execution_count": 25,
   "metadata": {
    "ExecuteTime": {
     "end_time": "2018-06-27T09:08:24.822287Z",
     "start_time": "2018-06-27T09:08:24.814521Z"
    }
   },
   "outputs": [],
   "source": [
    "flatten_010 = x_train[0:10].reshape((10, 784))"
   ]
  },
  {
   "cell_type": "code",
   "execution_count": 27,
   "metadata": {
    "ExecuteTime": {
     "end_time": "2018-06-27T09:09:39.290031Z",
     "start_time": "2018-06-27T09:09:39.286065Z"
    }
   },
   "outputs": [
    {
     "data": {
      "text/plain": [
       "(10, 804)"
      ]
     },
     "execution_count": 27,
     "metadata": {},
     "output_type": "execute_result"
    }
   ],
   "source": [
    "np.hstack((flatten_010, np.ones((10, 20)))).shape"
   ]
  },
  {
   "cell_type": "markdown",
   "metadata": {},
   "source": [
    "### Normalize"
   ]
  },
  {
   "cell_type": "code",
   "execution_count": 18,
   "metadata": {
    "ExecuteTime": {
     "end_time": "2018-06-27T07:51:37.009902Z",
     "start_time": "2018-06-27T07:51:36.841482Z"
    }
   },
   "outputs": [],
   "source": [
    "x_train = x_train / 255.0\n",
    "x_test = x_test / 255.0"
   ]
  },
  {
   "cell_type": "code",
   "execution_count": 14,
   "metadata": {
    "ExecuteTime": {
     "end_time": "2018-06-27T07:50:18.124387Z",
     "start_time": "2018-06-27T07:50:18.003322Z"
    }
   },
   "outputs": [
    {
     "data": {
      "text/plain": [
       "<matplotlib.image.AxesImage at 0x7f8d2f7f97b8>"
      ]
     },
     "execution_count": 14,
     "metadata": {},
     "output_type": "execute_result"
    },
    {
     "data": {
      "image/png": "[encoded data removed]",
      "text/plain": [
       "<Figure size 432x288 with 1 Axes>"
      ]
     },
     "metadata": {},
     "output_type": "display_data"
    }
   ],
   "source": [
    "plt.imshow(x_train[0], cmap=\"gray\")"
   ]
  }
 ],
 "metadata": {
  "kernelspec": {
   "display_name": "Python 3",
   "language": "python",
   "name": "python3"
  },
  "language_info": {
   "codemirror_mode": {
    "name": "ipython",
    "version": 3
   },
   "file_extension": ".py",
   "mimetype": "text/x-python",
   "name": "python",
   "nbconvert_exporter": "python",
   "pygments_lexer": "ipython3",
   "version": "3.6.4"
  },
  "toc": {
   "base_numbering": 1,
   "nav_menu": {},
   "number_sections": true,
   "sideBar": true,
   "skip_h1_title": true,
   "title_cell": "Table of Contents",
   "title_sidebar": "Contents",
   "toc_cell": false,
   "toc_position": {
    "height": "calc(100% - 180px)",
    "left": "10px",
    "top": "150px",
    "width": "165px"
   },
   "toc_section_display": true,
   "toc_window_display": true
  },
  "varInspector": {
   "cols": {
    "lenName": 16,
    "lenType": 16,
    "lenVar": 40
   },
   "kernels_config": {
    "python": {
     "delete_cmd_postfix": "",
     "delete_cmd_prefix": "del ",
     "library": "var_list.py",
     "varRefreshCmd": "print(var_dic_list())"
    },
    "r": {
     "delete_cmd_postfix": ") ",
     "delete_cmd_prefix": "rm(",
     "library": "var_list.r",
     "varRefreshCmd": "cat(var_dic_list()) "
    }
   },
   "oldHeight": 165,
   "position": {
    "height": "187px",
    "left": "1181px",
    "right": "139px",
    "top": "7px",
    "width": "600px"
   },
   "types_to_exclude": [
    "module",
    "function",
    "builtin_function_or_method",
    "instance",
    "_Feature"
   ],
   "varInspector_section_display": "block",
   "window_display": true
  }
 },
 "nbformat": 4,
 "nbformat_minor": 2
}
